{
 "cells": [
  {
   "cell_type": "code",
   "execution_count": 3,
   "metadata": {},
   "outputs": [],
   "source": [
    "class Carro:\n",
    "    \n",
    "    def __init__(self,marca,modelo, ano):\n",
    "\n",
    "        self.marca     = marca      # Atributo\n",
    "        self.modelo    = modelo     # Atributo\n",
    "        self.ano       = ano        # Atributo\n",
    "        self.cor       = \"\"         # Atributo\n",
    "        self._garantia = True\n",
    "        self._ligado   = False      # Atributo com valor padrão\n",
    "\n",
    "    def ligar(self):\n",
    "        if self._ligado:\n",
    "            print(f\"Já está ligado!! \\n\")\n",
    "        else:\n",
    "            self._ligado = True\n",
    "            print(f\"\\t\\ [Ok] O carro está ligado !!!\")\n",
    "\n",
    "    def desligar(self):\n",
    "        if self._ligado:\n",
    "            self._ligado = False\n",
    "            print(f\"\\t\\t [Ok] O carro está desligado !!!\")\n",
    "        else:\n",
    "            print(f\"\\n\\t [ERRO] Já está desligado \\n\")\n",
    "\n",
    "    def exibir_info(self):\n",
    "        if self._ligado:\n",
    "            status = \"Ligado\"\n",
    "        else:\n",
    "            status = \"Desligado\"\n",
    "\n",
    "        print(f\"{self.marca} - {self.modelo} está {status}\")"
   ]
  },
  {
   "cell_type": "code",
   "execution_count": 4,
   "metadata": {},
   "outputs": [],
   "source": [
    "meu_carro = Carro(\"WV\", \"Gol\", 2013)\n"
   ]
  },
  {
   "cell_type": "code",
   "execution_count": 5,
   "metadata": {},
   "outputs": [
    {
     "name": "stdout",
     "output_type": "stream",
     "text": [
      "<__main__.Carro object at 0x00000262055FF5D0>\n"
     ]
    }
   ],
   "source": [
    "print(meu_carro)"
   ]
  },
  {
   "cell_type": "code",
   "execution_count": 6,
   "metadata": {},
   "outputs": [
    {
     "name": "stdout",
     "output_type": "stream",
     "text": [
      "WV - Gol está Desligado\n"
     ]
    }
   ],
   "source": [
    "meu_carro.exibir_info()"
   ]
  },
  {
   "cell_type": "code",
   "execution_count": 7,
   "metadata": {},
   "outputs": [
    {
     "name": "stdout",
     "output_type": "stream",
     "text": [
      "\t\\ [Ok] O carro está ligado !!!\n"
     ]
    }
   ],
   "source": [
    "meu_carro.ligar()"
   ]
  },
  {
   "cell_type": "code",
   "execution_count": 8,
   "metadata": {},
   "outputs": [
    {
     "name": "stdout",
     "output_type": "stream",
     "text": [
      "\t\t [Ok] O carro está desligado !!!\n"
     ]
    }
   ],
   "source": [
    "meu_carro.desligar()"
   ]
  },
  {
   "cell_type": "code",
   "execution_count": 9,
   "metadata": {},
   "outputs": [
    {
     "name": "stdout",
     "output_type": "stream",
     "text": [
      "WV - Gol está Desligado\n"
     ]
    }
   ],
   "source": [
    "meu_carro.exibir_info()"
   ]
  }
 ],
 "metadata": {
  "kernelspec": {
   "display_name": "Python 3",
   "language": "python",
   "name": "python3"
  },
  "language_info": {
   "codemirror_mode": {
    "name": "ipython",
    "version": 3
   },
   "file_extension": ".py",
   "mimetype": "text/x-python",
   "name": "python",
   "nbconvert_exporter": "python",
   "pygments_lexer": "ipython3",
   "version": "3.11.4"
  },
  "orig_nbformat": 4
 },
 "nbformat": 4,
 "nbformat_minor": 2
}
