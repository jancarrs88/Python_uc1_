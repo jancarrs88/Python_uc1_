{
 "cells": [
  {
   "cell_type": "code",
   "execution_count": 10,
   "metadata": {},
   "outputs": [],
   "source": [
    "matriz = []\n",
    "for i in range(4):\n",
    "    linha = []\n",
    "    for j in range(4):\n",
    "        valor = float(input(\"Digite um valor entre 0 e 99 :\"))\n",
    "        linha.append(valor)\n",
    "    matriz.append(linha)"
   ]
  },
  {
   "cell_type": "code",
   "execution_count": 12,
   "metadata": {},
   "outputs": [
    {
     "name": "stdout",
     "output_type": "stream",
     "text": [
      "Maior valor da linha: [10.0, 20.0, 30.0, 40.0] \n",
      "\t\t >>> 40.0 <<<\n",
      "Maior valor da linha: [60.0, 70.0, 80.0, 90.0] \n",
      "\t\t >>> 90.0 <<<\n",
      "Maior valor da linha: [88.0, 77.0, 55.0, 97.0] \n",
      "\t\t >>> 97.0 <<<\n",
      "Maior valor da linha: [23.0, 43.0, 42.0, 56.0] \n",
      "\t\t >>> 56.0 <<<\n"
     ]
    }
   ],
   "source": [
    "for linha in matriz:\n",
    "    maior = 0.0\n",
    "    for valor in linha:\n",
    "        if valor > maior:\n",
    "            maior = valor\n",
    "    print(f\"Maior valor da linha: {linha} \\n\\t\\t >>> {maior} <<<\")"
   ]
  }
 ],
 "metadata": {
  "kernelspec": {
   "display_name": "Python 3",
   "language": "python",
   "name": "python3"
  },
  "language_info": {
   "codemirror_mode": {
    "name": "ipython",
    "version": 3
   },
   "file_extension": ".py",
   "mimetype": "text/x-python",
   "name": "python",
   "nbconvert_exporter": "python",
   "pygments_lexer": "ipython3",
   "version": "3.11.4"
  },
  "orig_nbformat": 4
 },
 "nbformat": 4,
 "nbformat_minor": 2
}
