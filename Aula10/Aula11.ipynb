{
 "cells": [
  {
   "cell_type": "code",
   "execution_count": 27,
   "metadata": {},
   "outputs": [
    {
     "name": "stdout",
     "output_type": "stream",
     "text": [
      "[[841, 255, 254, 582, 488, 918, 586, 784, 67, 422], [516, 859, 456, 101, 551, 827, 48, 172, 312, 460], [365, 508, 854, 570, 295, 639, 615, 87, 990, 697], [380, 779, 143, 446, 792, 111, 993, 422, 200, 554], [582, 927, 461, 422, 286, 789, 574, 215, 819, 850], [78, 498, 679, 711, 501, 194, 540, 765, 960, 357], [95, 524, 745, 683, 973, 672, 374, 85, 549, 484], [404, 40, 343, 613, 844, 973, 719, 705, 954, 689], [698, 340, 262, 58, 375, 159, 165, 218, 608, 720], [817, 483, 416, 439, 817, 372, 995, 569, 706, 684]]\n"
     ]
    }
   ],
   "source": [
    "import random\n",
    "matriz1 = []\n",
    "matriz2 = []\n",
    "matriz3 = []\n",
    "for i in range(10):\n",
    "    linha1 = []\n",
    "    linha2 = []\n",
    "    for j in range(10):\n",
    "\n",
    "        linha1.append(random.randint(1,1000))\n",
    "        linha2.append(random.randint(1,1000))\n",
    "    matriz1.append(linha1)\n",
    "    matriz2.append(linha2)\n",
    "print(f\"{matriz}\")"
   ]
  },
  {
   "cell_type": "code",
   "execution_count": 37,
   "metadata": {},
   "outputs": [
    {
     "ename": "IndentationError",
     "evalue": "unindent does not match any outer indentation level (<tokenize>, line 8)",
     "output_type": "error",
     "traceback": [
      "  \u001b[36mFile \u001b[39m\u001b[32m<tokenize>:8\u001b[39m\n\u001b[31m    \u001b[39m\u001b[31mmatriz3.append(listasoma)\u001b[39m\n    ^\n\u001b[31mIndentationError\u001b[39m\u001b[31m:\u001b[39m unindent does not match any outer indentation level\n"
     ]
    }
   ],
   "source": [
    "\n",
    "\n",
    "for i in range(10):\n",
    "    listasoma = []\n",
    "    for j in range(10):\n",
    "        soma = matriz1[i][j] + matriz2[i][j]\n",
    "    listasoma.append(soma)\n",
    "  matriz3.append(listasoma)\n",
    "\n",
    "\n",
    "\n",
    "for n in matriz3:\n",
    "  print(n)\n",
    "\n",
    "\n",
    "\n",
    "\n",
    "\n",
    "#matriz1 = [1, 2, 3]\n",
    "#matriz2 = [1, 2, 3]\n",
    "\n",
    "#for n in range(3):\n",
    "    #soma = matriz1[n] + matriz2[n]\n",
    "    #print(soma)\n"
   ]
  }
 ],
 "metadata": {
  "kernelspec": {
   "display_name": "Python 3",
   "language": "python",
   "name": "python3"
  },
  "language_info": {
   "codemirror_mode": {
    "name": "ipython",
    "version": 3
   },
   "file_extension": ".py",
   "mimetype": "text/x-python",
   "name": "python",
   "nbconvert_exporter": "python",
   "pygments_lexer": "ipython3",
   "version": "3.11.4"
  },
  "orig_nbformat": 4
 },
 "nbformat": 4,
 "nbformat_minor": 2
}
