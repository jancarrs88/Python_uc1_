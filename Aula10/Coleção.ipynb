{
 "cells": [
  {
   "cell_type": "code",
   "execution_count": 1,
   "metadata": {},
   "outputs": [],
   "source": [
    "class Carro:\n",
    "\n",
    "    def __init__ (self, marca, modelo, ano, cor):\n",
    "\n",
    "        self.marca     = marca\n",
    "        self.modelo    = modelo\n",
    "        self.ano       = ano\n",
    "        self.cor       = \"\"\n",
    "        self._garantia = True\n",
    "        self._ligado   = False\n",
    "        self._placa    = False\n",
    "        self._seguro   = False\n",
    "        self._reboque  = False\n",
    "\n",
    "    def ligar(self):\n",
    "        if self._ligado:\n",
    "            print(f\"Já está ligado!! \\n\")\n",
    "        else:\n",
    "            self._ligado = True\n",
    "            print(f\"\\t\\ [Ok] O carro está ligado !!!\")\n",
    "\n",
    "\n",
    "    def desligar(self):\n",
    "        if self._ligado:\n",
    "            self._ligado = False\n",
    "            print(f\"\\t\\t [Ok] O carro está desligado !!!\")\n",
    "        else:\n",
    "            print(f\"\\n\\t [ERRO] Já está desligado \\n\")\n",
    "\n",
    "    def exibir_info(self):\n",
    "        if self._ligado:\n",
    "            status = \"Ligado\"\n",
    "        else:\n",
    "            status = \"Desligado\"\n",
    "\n",
    "    def exibir_info(self):\n",
    "        if self._placa:\n",
    "            print(F\"Já está emplacado!! \\n\")\n",
    "        else:\n",
    "            self._placa = False\n",
    "            print(f\"O carro não está emplacado!!\")\n",
    "\n",
    "    def exibir_info(self):\n",
    "        if self._seguro:\n",
    "           self._seguro = True \n",
    "           print(f\"O carro está com seguro!! \\n\")\n",
    "\n",
    "    def exibir_info(self):\n",
    "        if self._reboque:\n",
    "            self._reboque = False\n",
    "            print(f\"\\t\\t O carro está sem reboque!! \\n\")\n",
    "        else:\n",
    "            print(f\"O carro está sem reboque!!\")\n",
    "            \n",
    "\n",
    "        print(f\"{self.marca} - {self.modelo} está {status}\")\n",
    "\n"
   ]
  },
  {
   "cell_type": "code",
   "execution_count": null,
   "metadata": {},
   "outputs": [],
   "source": []
  }
 ],
 "metadata": {
  "kernelspec": {
   "display_name": "Python 3",
   "language": "python",
   "name": "python3"
  },
  "language_info": {
   "codemirror_mode": {
    "name": "ipython",
    "version": 3
   },
   "file_extension": ".py",
   "mimetype": "text/x-python",
   "name": "python",
   "nbconvert_exporter": "python",
   "pygments_lexer": "ipython3",
   "version": "3.11.4"
  },
  "orig_nbformat": 4
 },
 "nbformat": 4,
 "nbformat_minor": 2
}
