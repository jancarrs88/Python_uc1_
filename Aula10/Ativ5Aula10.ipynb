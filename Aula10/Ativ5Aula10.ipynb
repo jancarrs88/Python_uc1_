{
 "cells": [
  {
   "cell_type": "code",
   "execution_count": 4,
   "metadata": {},
   "outputs": [
    {
     "name": "stdout",
     "output_type": "stream",
     "text": [
      "[[511, 240, 46, 253], [469, 153, 944, 145], [433, 808, 642, 23], [485, 943, 908, 540]]\n"
     ]
    }
   ],
   "source": [
    "# Peça ao usuário para inserir uma matriz 4×4 e exiba quantos números pares ela contém.\n",
    "import random\n",
    "matriz = []\n",
    "for i in range(4):\n",
    "    linha = []\n",
    "    for j in range(4):\n",
    "        \n",
    "        linha.append(random.randint(1,1000))\n",
    "    matriz.append(linha)\n",
    "print(f\"{matriz}\")\n"
   ]
  },
  {
   "cell_type": "code",
   "execution_count": 5,
   "metadata": {},
   "outputs": [
    {
     "name": "stdout",
     "output_type": "stream",
     "text": [
      "O números pares da matriz 4x4 são: \n",
      "153 944 944 153 944 944 145 \n"
     ]
    }
   ],
   "source": [
    "print(\"O números pares da matriz 4x4 são: \")\n",
    "for i in range(4):\n",
    "    for j in range(4):\n",
    "        if matriz [i][j] % 2 == 0:\n",
    "           print(matriz[1][j], end=' ')\n",
    "print()"
   ]
  }
 ],
 "metadata": {
  "kernelspec": {
   "display_name": "Python 3",
   "language": "python",
   "name": "python3"
  },
  "language_info": {
   "codemirror_mode": {
    "name": "ipython",
    "version": 3
   },
   "file_extension": ".py",
   "mimetype": "text/x-python",
   "name": "python",
   "nbconvert_exporter": "python",
   "pygments_lexer": "ipython3",
   "version": "3.11.4"
  },
  "orig_nbformat": 4
 },
 "nbformat": 4,
 "nbformat_minor": 2
}
