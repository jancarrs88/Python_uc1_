{
 "cells": [
  {
   "cell_type": "code",
   "execution_count": 10,
   "metadata": {},
   "outputs": [
    {
     "name": "stdout",
     "output_type": "stream",
     "text": [
      "[[28, 80, 389, 734], [661, 169, 763, 877], [741, 129, 752, 393], [810, 912, 278, 638]]\n"
     ]
    }
   ],
   "source": [
    "import random\n",
    "matriz = []\n",
    "for i in range(4):\n",
    "    linha = []\n",
    "    for j in range(4):\n",
    "        \n",
    "        linha.append(random.randint(1,1000))\n",
    "    matriz.append(linha)\n",
    "print(f\"{matriz}\")"
   ]
  },
  {
   "cell_type": "code",
   "execution_count": 12,
   "metadata": {},
   "outputs": [
    {
     "name": "stdout",
     "output_type": "stream",
     "text": [
      "[[56.0, 160.0, 778.0, 1468.0], [1322.0, 338.0, 1526.0, 1754.0], [1482.0, 258.0, 1504.0, 786.0], [1620.0, 1824.0, 556.0, 1276.0]]\n"
     ]
    }
   ],
   "source": [
    "# Receba uma matriz 4×4 e um número inteiro. Multiplique todos os elementos de uma linha específica por esse número e exiba o resultado\n",
    "\n",
    "numero = float(input(\"Digite um número: \"))\n",
    "\n",
    "matriz_mult = []\n",
    "for linha in matriz:\n",
    "    linha_mult = []\n",
    "    for elemento in linha:\n",
    "        resultado = elemento*numero\n",
    "        linha_mult.append(resultado)\n",
    "    matriz_mult.append(linha_mult)\n",
    "\n",
    "print(f\"{matriz_mult}\")\n"
   ]
  }
 ],
 "metadata": {
  "kernelspec": {
   "display_name": "Python 3",
   "language": "python",
   "name": "python3"
  },
  "language_info": {
   "codemirror_mode": {
    "name": "ipython",
    "version": 3
   },
   "file_extension": ".py",
   "mimetype": "text/x-python",
   "name": "python",
   "nbconvert_exporter": "python",
   "pygments_lexer": "ipython3",
   "version": "3.11.4"
  },
  "orig_nbformat": 4
 },
 "nbformat": 4,
 "nbformat_minor": 2
}
