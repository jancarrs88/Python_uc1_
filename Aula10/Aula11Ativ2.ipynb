{
 "cells": [
  {
   "cell_type": "code",
   "execution_count": 4,
   "metadata": {},
   "outputs": [
    {
     "name": "stdout",
     "output_type": "stream",
     "text": [
      "{1: {'nome': 'Jorge Antonio', 'notas': []}, 2: {'nome': 'Rebeca', 'notas': []}, 3: {'nome': 'Juliane', 'notas': []}}\n"
     ]
    }
   ],
   "source": [
    "alunos  =  {}  # Dicionário\n",
    "\n",
    "alunos[1]  =  {\"nome\": \"Jorge Antonio\",\"notas\": []} # Lista\n",
    "alunos[2]  =  {\"nome\": \"Rebeca\", \"notas\": []}\n",
    "alunos[3]  =  {\"nome\": \"Juliane\", \"notas\": []}\n",
    "\n",
    "# Calcular medias\n",
    "\n",
    "print( alunos)"
   ]
  },
  {
   "cell_type": "code",
   "execution_count": 28,
   "metadata": {},
   "outputs": [
    {
     "name": "stdout",
     "output_type": "stream",
     "text": [
      "{'nome': 'Rebeca', 'notas': [6.0, 8.7, 9.8, 6.0, 8.7, 9.8, 9.2, 6.0, 8.7, 9.8, 9.2, 6.0, 8.7, 9.8, 9.2, 6.0, 8.7, 9.8, 9.2]}\n"
     ]
    }
   ],
   "source": [
    "alunos[1][\"notas\"].append(5.0)\n",
    "alunos[2][\"notas\"].append(6.0)\n",
    "alunos[3][\"notas\"].append(7.0)\n",
    "\n",
    "alunos[1][\"notas\"].append(7.5)\n",
    "alunos[2][\"notas\"].append(8.7)\n",
    "alunos[3][\"notas\"].append(9.0)\n",
    "\n",
    "alunos[1][\"notas\"].append(10)\n",
    "alunos[2][\"notas\"].append(9.8)\n",
    "alunos[3][\"notas\"].append(8.9)\n",
    "\n",
    "alunos[1][\"notas\"].append(8.8)\n",
    "alunos[2][\"notas\"].append(9.2)\n",
    "alunos[3][\"notas\"].append(7.8)\n",
    "\n",
    "\n",
    "print(alunos[2])"
   ]
  },
  {
   "cell_type": "code",
   "execution_count": 33,
   "metadata": {},
   "outputs": [
    {
     "name": "stdout",
     "output_type": "stream",
     "text": [
      "Matricula do aluno...... : 1\n",
      "Nome do Aluno........... :  Jorge Antonio\n",
      "Notas do aluno..........  :\n",
      "\t\tnota ... 5.0\n",
      "\t\tnota ... 7.5\n",
      "\t\tnota ... 10\n",
      "\t\tnota ... 5.0\n",
      "\t\tnota ... 7.5\n",
      "\t\tnota ... 10\n",
      "\t\tnota ... 8.8\n",
      "\t\tnota ... 5.0\n",
      "\t\tnota ... 7.5\n",
      "\t\tnota ... 10\n",
      "\t\tnota ... 8.8\n",
      "\t\tnota ... 5.0\n",
      "\t\tnota ... 7.5\n",
      "\t\tnota ... 10\n",
      "\t\tnota ... 8.8\n",
      "\t\tnota ... 5.0\n",
      "\t\tnota ... 7.5\n",
      "\t\tnota ... 10\n",
      "\t\tnota ... 8.8\n",
      "\t\tMedia : 7.77\n",
      "\t\tStatus  : Aprovado\n",
      ".............................\n"
     ]
    }
   ],
   "source": [
    "for matricula, dados_aluno in alunos.items():\n",
    "\n",
    "    print(f\"Matricula do aluno...... : {matricula}\")\n",
    "    print(f'Nome do Aluno........... :  {dados_aluno[\"nome\"]}')\n",
    "    #print(f\"Notas do aluno.........  :{dados_aluno[notas]}\")\n",
    "    print(f\"Notas do aluno..........  :\")\n",
    "\n",
    "    for nota in dados_aluno[\"notas\"]:\n",
    "        print(f\"\\t\\tnota ... {nota}\")\n",
    "    \n",
    "    media  =  sum(dados_aluno[\"notas\"])/len(dados_aluno[\"notas\"])\n",
    "    #print(f\"\\t\\tMedia .. {media}\")\n",
    "\n",
    "    dados_aluno[\"media\"]=media\n",
    "\n",
    "    print(f'\\t\\tMedia : {dados_aluno[\"media\"]:.2f}')\n",
    "\n",
    "    if media >= 6:\n",
    "        dados_aluno['status']= \"Aprovado\"\n",
    "    else:\n",
    "        dados_aluno['status']= \"Reprovado\"\n",
    "       \n",
    "\n",
    "    print(f'\\t\\tStatus  : {dados_aluno[\"status\"]}')\n",
    "\n",
    "    print(\".............................\")\n",
    "\n",
    "    break"
   ]
  }
 ],
 "metadata": {
  "kernelspec": {
   "display_name": "Python 3",
   "language": "python",
   "name": "python3"
  },
  "language_info": {
   "codemirror_mode": {
    "name": "ipython",
    "version": 3
   },
   "file_extension": ".py",
   "mimetype": "text/x-python",
   "name": "python",
   "nbconvert_exporter": "python",
   "pygments_lexer": "ipython3",
   "version": "3.11.4"
  },
  "orig_nbformat": 4
 },
 "nbformat": 4,
 "nbformat_minor": 2
}
