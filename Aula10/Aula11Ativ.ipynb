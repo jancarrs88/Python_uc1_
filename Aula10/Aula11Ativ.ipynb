{
 "cells": [
  {
   "cell_type": "code",
   "execution_count": 1,
   "metadata": {},
   "outputs": [
    {
     "name": "stdout",
     "output_type": "stream",
     "text": [
      "{'nome': 'Jorge Antonio', 'Idade': 37, 'Cidade': 'Petrópolis', 'UF': 'RJ', 'Email': 'jorge_carvalho88@hotmail.com'}\n"
     ]
    }
   ],
   "source": [
    "# Dicionário chamado pessoa\n",
    "pessoa = {\n",
    "    \"nome\"   : \"Jorge Antonio\",\n",
    "    \"Idade\"  : 37,\n",
    "    \"Cidade\" : \"Petrópolis\",\n",
    "    \"UF\"     : \"RJ\",\n",
    "    \"Email\"  : \"jorge_carvalho88@hotmail.com\"\n",
    "    }\n",
    "print(pessoa)"
   ]
  },
  {
   "cell_type": "code",
   "execution_count": 3,
   "metadata": {},
   "outputs": [
    {
     "name": "stdout",
     "output_type": "stream",
     "text": [
      "{'nome': 'Rebeca Custodio', 'idade': 37, 'cidade': 'Petrópolis', 'email': 'rebecacustodio@gmai.com'}\n"
     ]
    }
   ],
   "source": [
    "lista_pessoas = []\n",
    "for i in range(2):\n",
    "    pessoa = {}\n",
    "    pessoa[\"nome\"]  = input(\"Digite o nome: \")\n",
    "    pessoa[\"idade\"] = int(input(\"Digite a idade: \"))\n",
    "    pessoa[\"cidade\"]= input(\"Digite a cidade: \")\n",
    "    pessoa[\"email\"] = input(\"Digite o email: \")\n",
    "\n",
    "    lista_pessoas.append(pessoa)"
   ]
  },
  {
   "cell_type": "code",
   "execution_count": 5,
   "metadata": {},
   "outputs": [
    {
     "name": "stdout",
     "output_type": "stream",
     "text": [
      "Jorge Antonio\n"
     ]
    }
   ],
   "source": [
    "print(lista_pessoas[0][\"nome\"])"
   ]
  },
  {
   "cell_type": "code",
   "execution_count": 8,
   "metadata": {},
   "outputs": [],
   "source": [
    "lista_pessoas[0][\"Cel\"] = \"024 99251 7564\""
   ]
  },
  {
   "cell_type": "code",
   "execution_count": 9,
   "metadata": {},
   "outputs": [
    {
     "name": "stdout",
     "output_type": "stream",
     "text": [
      "{'nome': 'Jorge Antonio', 'idade': 37, 'cidade': 'Petrópolis', 'email': 'jorge_carvalho88@hotmail.com', 'Cel': '024 99251 7564'}\n",
      "{'nome': 'Rebeca Custodio', 'idade': 37, 'cidade': 'Petrópolis', 'email': 'rebecacustodio@gmai.com'}\n"
     ]
    }
   ],
   "source": [
    "print(lista_pessoas[0])\n",
    "print(lista_pessoas[1])"
   ]
  }
 ],
 "metadata": {
  "kernelspec": {
   "display_name": "Python 3",
   "language": "python",
   "name": "python3"
  },
  "language_info": {
   "codemirror_mode": {
    "name": "ipython",
    "version": 3
   },
   "file_extension": ".py",
   "mimetype": "text/x-python",
   "name": "python",
   "nbconvert_exporter": "python",
   "pygments_lexer": "ipython3",
   "version": "3.11.4"
  },
  "orig_nbformat": 4
 },
 "nbformat": 4,
 "nbformat_minor": 2
}
