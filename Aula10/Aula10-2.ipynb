{
 "cells": [
  {
   "cell_type": "code",
   "execution_count": 2,
   "metadata": {},
   "outputs": [
    {
     "name": "stdout",
     "output_type": "stream",
     "text": [
      "[[81, 40, 14], [27, 90, 37], [56, 26, 61]]\n"
     ]
    }
   ],
   "source": [
    "# Importando o módulo de gereção de números\n",
    "import random\n",
    "matriz_2 = []\n",
    "for i in range(3):\n",
    "  linha=[]\n",
    "\n",
    "  for j in range(3):\n",
    "    #linha.append(i)\n",
    "    #linha.append(j)\n",
    "    #linha.append(random.randint(0,100)\n",
    "    valor = random.randint(0,100)\n",
    "    linha.append(valor)\n",
    "    \n",
    "  matriz_2.append(linha)\n",
    "  \n",
    "# Imprime a matriz 3x3\n",
    "print(f\"{matriz_2}\")"
   ]
  },
  {
   "cell_type": "code",
   "execution_count": 20,
   "metadata": {},
   "outputs": [
    {
     "name": "stdout",
     "output_type": "stream",
     "text": [
      "81 40 14 \n",
      "27 90 37 \n",
      "56 26 61 \n"
     ]
    }
   ],
   "source": [
    "for linha in matriz_2:\n",
    "    for valor in linha:\n",
    "        print(f\"{valor:02}\",end=\" \")\n",
    "    print(f\"\")  "
   ]
  },
  {
   "cell_type": "markdown",
   "metadata": {},
   "source": [
    "### Exemplo de uso 'for'\n",
    "Neste exemplo utilizamos o for de maneira similar as outras linguagens de programação\n"
   ]
  },
  {
   "cell_type": "code",
   "execution_count": 23,
   "metadata": {},
   "outputs": [
    {
     "name": "stdout",
     "output_type": "stream",
     "text": [
      "Elemento(0,0) >>> 27\n",
      "Elemento(0,1) >>> 90\n",
      "Elemento(0,2) >>> 37\n",
      "Elemento(1,0) >>> 27\n",
      "Elemento(1,1) >>> 90\n",
      "Elemento(1,2) >>> 37\n",
      "Elemento(2,0) >>> 27\n",
      "Elemento(2,1) >>> 90\n",
      "Elemento(2,2) >>> 37\n"
     ]
    }
   ],
   "source": [
    "for i in range(3):\n",
    "    for j in range(3):\n",
    "        print(f\"Elemento({i},{j}) >>> {matriz_2[1][j]}\")"
   ]
  }
 ],
 "metadata": {
  "kernelspec": {
   "display_name": "Python 3",
   "language": "python",
   "name": "python3"
  },
  "language_info": {
   "codemirror_mode": {
    "name": "ipython",
    "version": 3
   },
   "file_extension": ".py",
   "mimetype": "text/x-python",
   "name": "python",
   "nbconvert_exporter": "python",
   "pygments_lexer": "ipython3",
   "version": "3.11.4"
  },
  "orig_nbformat": 4
 },
 "nbformat": 4,
 "nbformat_minor": 2
}
